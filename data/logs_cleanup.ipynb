{
 "cells": [
  {
   "cell_type": "markdown",
   "metadata": {},
   "source": [
    "# Data Ingestion\n",
    "\n"
   ]
  },
  {
   "cell_type": "code",
   "execution_count": 3,
   "metadata": {},
   "outputs": [],
   "source": [
    "import os, os.path\n",
    "import pandas as pd"
   ]
  },
  {
   "cell_type": "markdown",
   "metadata": {},
   "source": [
    "Parsing data from Sylvia's (LoRa Star)"
   ]
  },
  {
   "cell_type": "code",
   "execution_count": 74,
   "metadata": {},
   "outputs": [],
   "source": [
    "# folders = [file for file in os.listdir('./logs-sylvia') if file != '.DS_Store']\n",
    "\n",
    "folders = [folder for folder in os.listdir('./logs-sylvia') if folder != '.DS_Store']\n",
    "dfs = [None]*len(folders)\n",
    "\n",
    "\n",
    "for i,folder in enumerate(folders):\n",
    "    filename = f\"./logs-sylvia/{folder}/data.csv\"\n",
    "    dfs[i] = pd.read_csv(filename,usecols=['time','pot','c_lvl_lo','c_lvl_hi','t_lvl_lo','t_lvl_hi','rain_count'],index_col='time',parse_dates=True)\n",
    "    df = dfs[0]\n",
    "    \n",
    "df = pd.concat(dfs).sort_index()\n",
    "\n",
    "df.to_csv('p2-sylvia-clean.csv')"
   ]
  }
 ],
 "metadata": {
  "kernelspec": {
   "display_name": "data-analysis",
   "language": "python",
   "name": "python3"
  },
  "language_info": {
   "codemirror_mode": {
    "name": "ipython",
    "version": 3
   },
   "file_extension": ".py",
   "mimetype": "text/x-python",
   "name": "python",
   "nbconvert_exporter": "python",
   "pygments_lexer": "ipython3",
   "version": "3.10.7"
  }
 },
 "nbformat": 4,
 "nbformat_minor": 2
}
